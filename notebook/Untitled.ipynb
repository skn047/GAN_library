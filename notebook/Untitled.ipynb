{
 "cells": [
  {
   "cell_type": "code",
   "execution_count": 1,
   "metadata": {
    "autoscroll": false,
    "collapsed": false,
    "ein.hycell": false,
    "ein.tags": "worksheet-0",
    "slideshow": {
     "slide_type": "-"
    }
   },
   "outputs": [],
   "source": [
    "from __future__ import print_function\n",
    "import tensorflow as tf\n",
    "import numpy as np\n",
    "import cv2\n",
    "import random\n",
    "import os"
   ]
  },
  {
   "cell_type": "code",
   "execution_count": 17,
   "metadata": {
    "autoscroll": false,
    "collapsed": false,
    "ein.hycell": false,
    "ein.tags": "worksheet-0",
    "slideshow": {
     "slide_type": "-"
    }
   },
   "outputs": [],
   "source": [
    "class create_input:\n",
    "    def load_image(self, path):\n",
    "        # load image and resize into (224, 224)\n",
    "        image = tf.io.read_file(path)\n",
    "        image = tf.io.decode_png(image, channels=3)\n",
    "        image = tf.cast(image, tf.float32)\n",
    "        image = tf.image.resize(image, (224, 224))\n",
    "        return image\n",
    "\n",
    "    def cut_out(self, img):\n",
    "        # choose one or three rectangle with random size(up to 1/5 image size)\n",
    "        height = tf.shape(img)[0]\n",
    "        width = tf.shape(img)[1]\n",
    "        h = tf.random.uniform([], int(height/10), int(height/5), tf.int32)\n",
    "        w = tf.random.uniform([], int(width/10), int(width/5), tf.int32)\n",
    "\n",
    "        x1 = tf.random.uniform([], 0, height+1 - h, tf.int32)\n",
    "        y1 = tf.random.uniform([], 0, width+1 - w, tf.int32)\n",
    "\n",
    "        mean = int(tf.reduce_mean(img))\n",
    "        erase_area = tf.cast(tf.fill([h, w, 3], 230), tf.uint8)\n",
    "        erase_img = np.array(img)\n",
    "        erase_img[x1:x1+h, y1:y1+w, :] = erase_area\n",
    "\n",
    "        return erase_img\n",
    "\n",
    "    def WhiteNoise(self, img):\n",
    "        noise = tf.random.normal(tf.shape(img), mean=0.0, stddev=20.0, dtype=tf.float32)\n",
    "        noise_img = noise+img\n",
    "        noise_img = tf.clip_by_value(noise_img, 0.0, 255.0)\n",
    "\n",
    "        return noise_img\n",
    "\n",
    "    def SaltNoise(self, img):\n",
    "        # add salt and pepper noise(1/16 area)\n",
    "        pts_x_white = np.random.randint(0, tf.shape(img)[0]-1, int(tf.shape(img)[0]**2/16))\n",
    "        pts_y_white = np.random.randint(0, tf.shape(img)[1]-1, int(tf.shape(img)[0]**2/16))\n",
    "\n",
    "        pts_x_black = np.random.randint(0, tf.shape(img)[0]-1, int(tf.shape(img)[0]**2/16))\n",
    "        pts_y_black = np.random.randint(0, tf.shape(img)[1]-1, int(tf.shape(img)[0]**2/16))\n",
    "\n",
    "        img = np.array(img)\n",
    "        img[pts_x_white, pts_y_white] = [255, 255, 255]\n",
    "        img[pts_x_black, pts_y_black] = [0, 0, 0]\n",
    "\n",
    "        return img\n",
    "\n",
    "    def fit(self, path):\n",
    "        img = self.load_image(path)\n",
    "\n",
    "        augs = [self.cut_out, self.WhiteNoise, self.SaltNoise]\n",
    "\n",
    "        num = int(tf.random.uniform([], minval=1, maxval=len(augs), dtype=tf.int64))\n",
    "        selected_augs = random.sample(augs, num)\n",
    "        for aug in selected_augs:\n",
    "            img = aug(img)\n",
    "\n",
    "        return img"
   ]
  },
  {
   "cell_type": "code",
   "execution_count": 21,
   "metadata": {
    "autoscroll": false,
    "collapsed": false,
    "ein.hycell": false,
    "ein.tags": "worksheet-0",
    "slideshow": {
     "slide_type": "-"
    }
   },
   "outputs": [],
   "source": [
    "# create augmented image\n",
    "img_path = \"/home/naoki/Documents/GAN_practice/data/test/\"\n",
    "save_path = \"/home/naoki/Documents/GAN_practice/data/aug/test/\"\n",
    "files = os.listdir(img_path)\n",
    "files_file = [f for f in files if os.path.isfile(os.path.join(img_path, f))]  #  all image names\n",
    "random.shuffle(files_file)\n",
    "files_path = [img_path+files_file[i] for i in range(len(files_file))]  #  all image path\n",
    "save_files_path = [save_path+files_file[i] for i in range(len(files_file))]  #  all image path\n",
    "\n",
    "for (path, sv_path) in zip(files_path, save_files_path):\n",
    "    fit_img = np.array(create_input().fit(path))\n",
    "    fit_img = cv2.cvtColor(fit_img, cv2.COLOR_BGR2RGB)\n",
    "\n",
    "    cv2.imwrite(sv_path, fit_img)"
   ]
  },
  {
   "cell_type": "code",
   "execution_count": 36,
   "metadata": {
    "autoscroll": false,
    "collapsed": false,
    "ein.hycell": false,
    "ein.tags": "worksheet-0",
    "slideshow": {
     "slide_type": "-"
    }
   },
   "outputs": [
    {
     "data": {
      "text/plain": [
       "True"
      ]
     },
     "execution_count": 36,
     "metadata": {},
     "output_type": "execute_result"
    }
   ],
   "source": [
    "aug = data_aug()\n",
    "path = \"/home/naoki/Documents/NEW-GAME-classification/data/2.png\"\n",
    "fit_img = data_aug().fit(path)\n",
    "fit_img = cv2.cvtColor(fit_img, cv2.COLOR_BGR2RGB)\n",
    "cv2.imwrite(\"/home/naoki/Pictures/fit_noise.png\", fit_img)"
   ]
  },
  {
   "cell_type": "code",
   "execution_count": 29,
   "metadata": {
    "autoscroll": false,
    "collapsed": false,
    "ein.hycell": false,
    "ein.tags": "worksheet-0",
    "slideshow": {
     "slide_type": "-"
    }
   },
   "outputs": [
    {
     "data": {
      "text/plain": [
       "True"
      ]
     },
     "execution_count": 29,
     "metadata": {},
     "output_type": "execute_result"
    }
   ],
   "source": [
    "aug = data_aug()\n",
    "image = data_aug().load_image(\"/home/naoki/Documents/NEW-GAME-classification/data/2.png\")\n",
    "image = aug.WhiteNoise(image)\n",
    "image = np.array(image)\n",
    "image = cv2.cvtColor(image, cv2.COLOR_BGR2RGB)\n",
    "cv2.imwrite(\"/home/naoki/Pictures/white_noise.png\", image)"
   ]
  },
  {
   "cell_type": "code",
   "execution_count": 39,
   "metadata": {
    "autoscroll": false,
    "collapsed": false,
    "ein.hycell": false,
    "ein.tags": "worksheet-0",
    "slideshow": {
     "slide_type": "-"
    }
   },
   "outputs": [
    {
     "data": {
      "text/plain": [
       "True"
      ]
     },
     "execution_count": 39,
     "metadata": {},
     "output_type": "execute_result"
    }
   ],
   "source": [
    "aug = data_aug()\n",
    "image = aug.cut_out(\"/home/naoki/Documents/NEW-GAME-classification/data/2.png\")\n",
    "image = np.array(image)\n",
    "cv2.imwrite(\"/home/naoki/Pictures/cut_out.png\", image)"
   ]
  },
  {
   "cell_type": "code",
   "execution_count": 18,
   "metadata": {
    "autoscroll": false,
    "collapsed": false,
    "ein.hycell": false,
    "ein.tags": "worksheet-0",
    "slideshow": {
     "slide_type": "-"
    }
   },
   "outputs": [],
   "source": [
    "class Hellos:\n",
    "    def hello(self, path):\n",
    "        print(\"Hello\")\n",
    "    def hello_n(self,n):\n",
    "        for i in range(n):\n",
    "            self.hello(1)"
   ]
  },
  {
   "cell_type": "code",
   "execution_count": 19,
   "metadata": {
    "autoscroll": false,
    "collapsed": false,
    "ein.hycell": false,
    "ein.tags": "worksheet-0",
    "slideshow": {
     "slide_type": "-"
    }
   },
   "outputs": [
    {
     "name": "stdout",
     "output_type": "stream",
     "text": [
      "Hello\n",
      "Hello\n",
      "Hello\n"
     ]
    }
   ],
   "source": [
    "h = Hellos()\n",
    "h.hello_n(3)"
   ]
  },
  {
   "cell_type": "code",
   "execution_count": 5,
   "metadata": {
    "autoscroll": false,
    "collapsed": false,
    "ein.hycell": false,
    "ein.tags": "worksheet-0",
    "slideshow": {
     "slide_type": "-"
    }
   },
   "outputs": [],
   "source": [
    "class data_aug:\n",
    "    def resize(self, input_image, real_image, height, width):\n",
    "        input_image = tf.image.resize(input_image, [height, width], method=tf.image.ResizeMethod.NEAREST_NEIGHBOR)\n",
    "        real_image = tf.image.resize(real_image, [height, width], method=tf.image.ResizeMethod.NEAREST_NEIGHBOR)\n",
    "\n",
    "        return input_image, real_image\n",
    "\n",
    "    def random_crop(self, input_image, real_image):\n",
    "        stack_image = tf.stack([input_image, real_image], axis=0)\n",
    "        cropped_image = tf.image.random_crop(stack_image, size=[2, 256, 256, 3])\n",
    "\n",
    "        return cropped_image[0], cropped_image[1]\n",
    "\n",
    "    def random_jitter(input_image, real_image):\n",
    "        input_image, real_image = self.resize(input_image, real_image, 286, 286)\n",
    "        input_image, real_image = self.random_crop(input_image, real_image)\n",
    "\n",
    "        if tf.random.uniform(()) > 0.5:\n",
    "            input_image = tf.image.flip_left_right(input_image)\n",
    "            real_image = tf.image.flip_left_right(real_image)\n",
    "\n",
    "        return input_image, real_image"
   ]
  }
 ],
 "metadata": {
  "kernelspec": {
   "argv": [
    "/home/naoki/anaconda3/envs/tensorflow-new/bin/python3",
    "-m",
    "ipykernel_launcher",
    "-f",
    "{connection_file}"
   ],
   "display_name": "Tensorflow-new",
   "env": null,
   "interrupt_mode": "signal",
   "language": "python",
   "metadata": null,
   "name": "tensorflow-new"
  },
  "name": "Untitled.ipynb"
 },
 "nbformat": 4,
 "nbformat_minor": 4
}
